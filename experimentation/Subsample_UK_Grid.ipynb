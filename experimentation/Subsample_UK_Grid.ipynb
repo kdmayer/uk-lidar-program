{
 "cells": [
  {
   "cell_type": "code",
   "execution_count": null,
   "id": "48ed4f2f",
   "metadata": {},
   "outputs": [],
   "source": [
    "%cd .."
   ]
  },
  {
   "cell_type": "code",
   "execution_count": null,
   "id": "c2c8e579",
   "metadata": {},
   "outputs": [],
   "source": [
    "import geopandas as gpd\n",
    "import pandas as pd\n",
    "import numpy as np\n",
    "\n",
    "import shapely\n",
    "import os"
   ]
  },
  {
   "cell_type": "code",
   "execution_count": null,
   "id": "5a8bb300",
   "metadata": {},
   "outputs": [],
   "source": [
    "INPUT_PATH = \"./assets/aoi/UK_5km_grid.geojson\""
   ]
  },
  {
   "cell_type": "code",
   "execution_count": null,
   "id": "90e9c65c",
   "metadata": {},
   "outputs": [],
   "source": [
    "uk = gpd.read_file(INPUT_PATH)\n",
    "uk"
   ]
  },
  {
   "cell_type": "code",
   "execution_count": null,
   "id": "8be06e8d",
   "metadata": {},
   "outputs": [],
   "source": [
    "subset = uk.loc[8000:8005]\n",
    "subset"
   ]
  },
  {
   "cell_type": "code",
   "execution_count": null,
   "id": "86d58693",
   "metadata": {},
   "outputs": [],
   "source": [
    "subset.to_file(\"./assets/UK_Subset_5km_grid.geojson\", driver=\"GeoJSON\")"
   ]
  }
 ],
 "metadata": {
  "kernelspec": {
   "display_name": "Python 3 (ipykernel)",
   "language": "python",
   "name": "python3"
  },
  "language_info": {
   "codemirror_mode": {
    "name": "ipython",
    "version": 3
   },
   "file_extension": ".py",
   "mimetype": "text/x-python",
   "name": "python",
   "nbconvert_exporter": "python",
   "pygments_lexer": "ipython3",
   "version": "3.9.13"
  }
 },
 "nbformat": 4,
 "nbformat_minor": 5
}
