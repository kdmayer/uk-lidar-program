{
 "cells": [
  {
   "cell_type": "code",
   "execution_count": null,
   "id": "255499fb",
   "metadata": {},
   "outputs": [],
   "source": [
    "%cd .."
   ]
  },
  {
   "cell_type": "code",
   "execution_count": null,
   "id": "6c7bb9b0",
   "metadata": {},
   "outputs": [],
   "source": [
    "import geopandas as gpd\n",
    "import pandas as pd\n",
    "import numpy as np\n",
    "\n",
    "import shapely\n",
    "import os"
   ]
  },
  {
   "cell_type": "code",
   "execution_count": null,
   "id": "06b25020",
   "metadata": {},
   "outputs": [],
   "source": [
    "INPUT_PATH = \"./assets/UK_5km_grid.geojson\""
   ]
  },
  {
   "cell_type": "code",
   "execution_count": null,
   "id": "5f272689",
   "metadata": {},
   "outputs": [],
   "source": [
    "uk = gpd.read_file(INPUT_PATH)\n",
    "uk"
   ]
  },
  {
   "cell_type": "code",
   "execution_count": null,
   "id": "8bf3820f",
   "metadata": {},
   "outputs": [],
   "source": [
    "subset = uk.loc[8000:8005]\n",
    "subset"
   ]
  },
  {
   "cell_type": "code",
   "execution_count": null,
   "id": "096c2126",
   "metadata": {},
   "outputs": [],
   "source": [
    "subset.to_file(\"./assets/UK_Subset_5km_grid.geojson\", driver=\"GeoJSON\")"
   ]
  }
 ],
 "metadata": {
  "kernelspec": {
   "display_name": "Python 3 (ipykernel)",
   "language": "python",
   "name": "python3"
  },
  "language_info": {
   "codemirror_mode": {
    "name": "ipython",
    "version": 3
   },
   "file_extension": ".py",
   "mimetype": "text/x-python",
   "name": "python",
   "nbconvert_exporter": "python",
   "pygments_lexer": "ipython3",
   "version": "3.9.13"
  }
 },
 "nbformat": 4,
 "nbformat_minor": 5
}
